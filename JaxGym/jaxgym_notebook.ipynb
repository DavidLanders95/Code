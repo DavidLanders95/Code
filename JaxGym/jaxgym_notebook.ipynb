{
 "cells": [
  {
   "cell_type": "code",
   "execution_count": 8,
   "metadata": {},
   "outputs": [
    {
     "name": "stdout",
     "output_type": "stream",
     "text": [
      "The autoreload extension is already loaded. To reload it, use:\n",
      "  %reload_ext autoreload\n"
     ]
    }
   ],
   "source": [
    "%load_ext autoreload"
   ]
  },
  {
   "cell_type": "code",
   "execution_count": 9,
   "metadata": {},
   "outputs": [],
   "source": [
    "import jax.numpy as jnp\n",
    "import numpy as np\n",
    "import jax\n",
    "jax.config.update(\"jax_enable_x64\", True)\n",
    "\n",
    "from jaxgym import Model, Lens, Deflector, Sample, Ray, Detector"
   ]
  },
  {
   "cell_type": "markdown",
   "metadata": {},
   "source": [
    "We are going to start with a slightly more general approach, that should amount to the same output in the end as your torch code. It will just be a bit more general so it should be more useful later. \n",
    "\n",
    "We are going to use Jax to compute the Jacobian of the output ray positions and slopes with respect to the input ray positions and slopes:\n",
    "\n",
    "Essential the partial derivative of output parameters with respect to input parameters, which is more or less what torch was giving you too, for now we are just being somewhat more explicit about it, and what it means for our rays. \n",
    "\n",
    "For an input matrix of 1 x 5 (containing (x, x', y, y', 1) input ray parameters with primes denoting input slopes), the Jacobian will be a 5x5 matrix of this form:\n",
    "\n"
   ]
  },
  {
   "cell_type": "code",
   "execution_count": 10,
   "metadata": {},
   "outputs": [
    {
     "data": {
      "image/png": "[encoded data removed]",
      "text/latex": [
       "$\\displaystyle \\left[\\begin{matrix}\\partial x_{o} / \\partial x_{i} & \\partial x_{o} / \\partial x^{\\prime}_{i} & \\partial x_{o} / \\partial y_{i} & \\partial x_{o} / \\partial y_{\\prime}{i} & \\partial x_{o} / \\partial 1\\\\\\partial x{\\prime}_{o} / \\partial x_{i} & \\partial x{\\prime}_{o} / \\partial x^{\\prime}_{i} & \\partial x{\\prime}_{o} / \\partial y_{i} & \\partial x{\\prime}_{o} / \\partial y_{\\prime}{i} & \\partial x{\\prime}_{o} / \\partial 1\\\\\\partial y_{o} / \\partial x_{i} & \\partial y_{o} / \\partial x^{\\prime}_{i} & \\partial y_{o} / \\partial y_{i} & \\partial y_{o} / \\partial y_{\\prime}{i} & \\partial y_{o} / \\partial 1\\\\\\partial y_{\\prime}{o} / \\partial x_{i} & \\partial y_{\\prime}{o} / \\partial x^{\\prime}_{i} & \\partial y_{\\prime}{o} / \\partial y_{i} & \\partial y_{\\prime}{o} / \\partial y_{\\prime}{i} & \\partial y_{\\prime}{o} / \\partial 1\\\\\\partial 1 / \\partial x_{i} & \\partial 1 / \\partial x^{\\prime}_{i} & \\partial 1 / \\partial y_{i} & \\partial 1 / \\partial y_{\\prime}{i} & \\partial 1 / \\partial 1\\end{matrix}\\right]$"
      ],
      "text/plain": [
       "⎡    \\partial x_{o} / \\partial x_{i}          \\partial x_{o} / \\partial x_{i}_ ↪\n",
       "⎢                                                                              ↪\n",
       "⎢\\partial x{\\prime}_{o} / \\partial x_{i}  \\partial x{\\prime}_{o} / \\partial x_ ↪\n",
       "⎢                                                                              ↪\n",
       "⎢    \\partial y_{o} / \\partial x_{i}          \\partial y_{o} / \\partial x_{i}_ ↪\n",
       "⎢                                                                              ↪\n",
       "⎢\\partial y_{\\prime}{o} / \\partial x_{i}  \\partial y_{\\prime}{o} / \\partial x_ ↪\n",
       "⎢                                                                              ↪\n",
       "⎣      \\partial 1 / \\partial x_{i}              \\partial 1 / \\partial x_{i}__{ ↪\n",
       "\n",
       "↪ _{\\prime}          \\partial x_{o} / \\partial y_{i}          \\partial x_{o} / ↪\n",
       "↪                                                                              ↪\n",
       "↪ {i}__{\\prime}  \\partial x{\\prime}_{o} / \\partial y_{i}  \\partial x{\\prime}_{ ↪\n",
       "↪                                                                              ↪\n",
       "↪ _{\\prime}          \\partial y_{o} / \\partial y_{i}          \\partial y_{o} / ↪\n",
       "↪                                                                              ↪\n",
       "↪ {i}__{\\prime}  \\partial y_{\\prime}{o} / \\partial y_{i}  \\partial y_{\\prime}{ ↪\n",
       "↪                                                                              ↪\n",
       "↪ \\prime}              \\partial 1 / \\partial y_{i}              \\partial 1 / \\ ↪\n",
       "\n",
       "↪  \\partial y_{\\prime}{i}          \\partial x_{o} / \\partial 1    ⎤\n",
       "↪                                                                 ⎥\n",
       "↪ o} / \\partial y_{\\prime}{i}  \\partial x{\\prime}_{o} / \\partial 1⎥\n",
       "↪                                                                 ⎥\n",
       "↪  \\partial y_{\\prime}{i}          \\partial y_{o} / \\partial 1    ⎥\n",
       "↪                                                                 ⎥\n",
       "↪ o} / \\partial y_{\\prime}{i}  \\partial y_{\\prime}{o} / \\partial 1⎥\n",
       "↪                                                                 ⎥\n",
       "↪ partial y_{\\prime}{i}              \\partial 1 / \\partial 1      ⎦"
      ]
     },
     "metadata": {},
     "output_type": "display_data"
    }
   ],
   "source": [
    "import sympy as sp\n",
    "sp.init_printing()\n",
    "# Define input variables\n",
    "x, dx, y, dy = sp.symbols('x_{i} x^{\\\\prime}_{i} y_{i} y_{\\\\prime}{i}')\n",
    "\n",
    "# Define output variables symbolically\n",
    "x_o, dx_o, y_o, dy_o = sp.symbols('x_{o} x{\\\\prime}_{o} y_{o} y_{\\\\prime}{o}')\n",
    "\n",
    "# Construct symbolic partial derivatives for Jacobian matrix\n",
    "partial = lambda f, v: sp.Symbol(f'\\\\partial {f} / \\\\partial {v}')  # LaTeX style partial symbols\n",
    "\n",
    "# Input and output variable lists\n",
    "input_vars = [x, dx, y, dy, 1]\n",
    "output_vars = [x_o, dx_o, y_o, dy_o, 1]\n",
    "\n",
    "# Create a matrix of symbolic partial derivatives\n",
    "jacobian_symbolic = sp.Matrix([\n",
    "    [partial(str(f), str(v)) for v in input_vars] for f in output_vars\n",
    "])\n",
    "\n",
    "# Display the Jacobian as a matrix of partial derivatives\n",
    "display(jacobian_symbolic)\n",
    "\n"
   ]
  },
  {
   "cell_type": "markdown",
   "metadata": {},
   "source": [
    "In linear ray transfer matrix terms, this jacobian will be equivalent to the transfer matrix of the system: For instance, if we have a series of propagation steps and components such as lenses, the jacobian will equal the matrix multiplication of all of those transfer matrices. "
   ]
  },
  {
   "cell_type": "code",
   "execution_count": 11,
   "metadata": {},
   "outputs": [
    {
     "data": {
      "text/latex": [
       "$\\displaystyle \\left[\\begin{matrix}pos_{x} \\left(1 - \\frac{z_{2}}{f}\\right) + slope_{x} \\left(z_{1} \\left(1 - \\frac{z_{2}}{f}\\right) + z_{2}\\right)\\\\slope_{x} \\left(1 - \\frac{z_{1}}{f}\\right) - \\frac{pos_{x}}{f}\\\\pos_{y} \\left(1 - \\frac{z_{2}}{f}\\right) + slope_{y} \\left(z_{1} \\left(1 - \\frac{z_{2}}{f}\\right) + z_{2}\\right)\\\\slope_{y} \\left(1 - \\frac{z_{1}}{f}\\right) - \\frac{pos_{y}}{f}\\\\_\\end{matrix}\\right]$"
      ],
      "text/plain": [
       "⎡      ⎛    z₂⎞          ⎛   ⎛    z₂⎞     ⎞ ⎤\n",
       "⎢ posₓ⋅⎜1 - ──⎟ + slopeₓ⋅⎜z₁⋅⎜1 - ──⎟ + z₂⎟ ⎥\n",
       "⎢      ⎝    f ⎠          ⎝   ⎝    f ⎠     ⎠ ⎥\n",
       "⎢                                           ⎥\n",
       "⎢                 ⎛    z₁⎞   posₓ           ⎥\n",
       "⎢          slopeₓ⋅⎜1 - ──⎟ - ────           ⎥\n",
       "⎢                 ⎝    f ⎠    f             ⎥\n",
       "⎢                                           ⎥\n",
       "⎢      ⎛    z₂⎞           ⎛   ⎛    z₂⎞     ⎞⎥\n",
       "⎢pos_y⋅⎜1 - ──⎟ + slope_y⋅⎜z₁⋅⎜1 - ──⎟ + z₂⎟⎥\n",
       "⎢      ⎝    f ⎠           ⎝   ⎝    f ⎠     ⎠⎥\n",
       "⎢                                           ⎥\n",
       "⎢                 ⎛    z₁⎞   pos_y          ⎥\n",
       "⎢         slope_y⋅⎜1 - ──⎟ - ─────          ⎥\n",
       "⎢                 ⎝    f ⎠     f            ⎥\n",
       "⎢                                           ⎥\n",
       "⎣                     _                     ⎦"
      ]
     },
     "metadata": {},
     "output_type": "display_data"
    },
    {
     "data": {
      "image/png": "[encoded data removed]",
      "text/latex": [
       "$\\displaystyle \\left[\\begin{matrix}1 - \\frac{z_{2}}{f} & z_{1} \\left(1 - \\frac{z_{2}}{f}\\right) + z_{2} & 0 & 0 & 0\\\\- \\frac{1}{f} & 1 - \\frac{z_{1}}{f} & 0 & 0 & 0\\\\0 & 0 & 1 - \\frac{z_{2}}{f} & z_{1} \\left(1 - \\frac{z_{2}}{f}\\right) + z_{2} & 0\\\\0 & 0 & - \\frac{1}{f} & 1 - \\frac{z_{1}}{f} & 0\\\\0 & 0 & 0 & 0 & 1\\end{matrix}\\right]$"
      ],
      "text/plain": [
       "⎡    z₂     ⎛    z₂⎞                                  ⎤\n",
       "⎢1 - ──  z₁⋅⎜1 - ──⎟ + z₂    0            0          0⎥\n",
       "⎢    f      ⎝    f ⎠                                  ⎥\n",
       "⎢                                                     ⎥\n",
       "⎢ -1              z₁                                  ⎥\n",
       "⎢ ───         1 - ──         0            0          0⎥\n",
       "⎢  f              f                                   ⎥\n",
       "⎢                                                     ⎥\n",
       "⎢                              z₂     ⎛    z₂⎞        ⎥\n",
       "⎢  0            0          1 - ──  z₁⋅⎜1 - ──⎟ + z₂  0⎥\n",
       "⎢                              f      ⎝    f ⎠        ⎥\n",
       "⎢                                                     ⎥\n",
       "⎢                           -1              z₁        ⎥\n",
       "⎢  0            0           ───         1 - ──       0⎥\n",
       "⎢                            f              f         ⎥\n",
       "⎢                                                     ⎥\n",
       "⎣  0            0            0            0          1⎦"
      ]
     },
     "metadata": {},
     "output_type": "display_data"
    },
    {
     "data": {
      "image/png": "[encoded data removed]",
      "text/latex": [
       "$\\displaystyle \\left[\\begin{matrix}-4.0 & -1.5 & 0 & 0 & 0\\\\-10.0 & -4.0 & 0 & 0 & 0\\\\0 & 0 & -4.0 & -1.5 & 0\\\\0 & 0 & -10.0 & -4.0 & 0\\\\0 & 0 & 0 & 0 & 1\\end{matrix}\\right]$"
      ],
      "text/plain": [
       "⎡-4.0   -1.5    0     0    0⎤\n",
       "⎢                           ⎥\n",
       "⎢-10.0  -4.0    0     0    0⎥\n",
       "⎢                           ⎥\n",
       "⎢  0     0    -4.0   -1.5  0⎥\n",
       "⎢                           ⎥\n",
       "⎢  0     0    -10.0  -4.0  0⎥\n",
       "⎢                           ⎥\n",
       "⎣  0     0      0     0    1⎦"
      ]
     },
     "metadata": {},
     "output_type": "display_data"
    }
   ],
   "source": [
    "import sympy as sp\n",
    "sp.init_printing()\n",
    "\n",
    "# Step 1: Define symbolic variables\n",
    "pos_x, slope_x, pos_y, slope_y, _ = sp.symbols('pos_x slope_x pos_y slope_y _')\n",
    "f, z1, z2 = sp.symbols('f z1 z2')  # focal length of the lens\n",
    "\n",
    "# Step 2: Define the lens transformation matrix (5x5 matrix with -1/f)\n",
    "transfer_matrix_1 = sp.Matrix([\n",
    "    [1, z1, 0, 0, 0],\n",
    "    [0, 1, 0, 0, 0],\n",
    "    [0, 0, 1, z1, 0],\n",
    "    [0, 0, 0, 1, 0],\n",
    "    [0, 0, 0, 0, 1]\n",
    "])\n",
    "lens_matrix = sp.Matrix([\n",
    "    [1, 0, 0, 0, 0],\n",
    "    [-1 / f, 1, 0, 0, 0],\n",
    "    [0, 0, 1, 0, 0],\n",
    "    [0, 0, -1/f, 1, 0],  # -1/f term affecting slope_y\n",
    "    [0, 0, 0, 0, 1]\n",
    "])\n",
    "transfer_matrix_2 = sp.Matrix([\n",
    "    [1, z2, 0, 0, 0],\n",
    "    [0, 1, 0, 0, 0],\n",
    "    [0, 0, 1, z2, 0],\n",
    "    [0, 0, 0, 1, 0],\n",
    "    [0, 0, 0, 0, 1]\n",
    "])\n",
    "# Step 3: Define the input vector (5x1)\n",
    "input_vector = sp.Matrix([pos_x, slope_x, pos_y, slope_y, _])\n",
    "\n",
    "# Step 4: Compute the output vector by multiplying the lens matrix with the input vector\n",
    "output_vector = transfer_matrix_2 @ lens_matrix @ transfer_matrix_1 @ input_vector\n",
    "\n",
    "display(output_vector)\n",
    "# Step 5: Compute the Jacobian\n",
    "# Since the transformation is linear, the Jacobian is simply the lens matrix\n",
    "# Step 5: Compute the Jacobian using sympy's jacobian method\n",
    "jacobian_sympy = sp.Matrix.jacobian(output_vector, input_vector)\n",
    "display(jacobian_sympy)\n",
    "\n",
    "# Step 7: Substitute the values of the variables\n",
    "jacobian_sympy = jacobian_sympy.subs({f: 0.1, z1: 0.5, z2: 0.5})\n",
    "\n",
    "display(jacobian_sympy)"
   ]
  },
  {
   "cell_type": "markdown",
   "metadata": {},
   "source": [
    "These matrices are equivalent for a linear system. "
   ]
  },
  {
   "cell_type": "markdown",
   "metadata": {},
   "source": [
    "$\\displaystyle \\left[\\begin{matrix}\\partial x_{o} / \\partial x_{i} & \\partial x_{o} / \\partial x^{\\prime}_{i} & \\partial x_{o} / \\partial y_{i} & \\partial x_{o} / \\partial y_{\\prime}{i} & \\partial x_{o} / \\partial 1\\\\\\partial x{\\prime}_{o} / \\partial x_{i} & \\partial x{\\prime}_{o} / \\partial x^{\\prime}_{i} & \\partial x{\\prime}_{o} / \\partial y_{i} & \\partial x{\\prime}_{o} / \\partial y_{\\prime}{i} & \\partial x{\\prime}_{o} / \\partial 1\\\\\\partial y_{o} / \\partial x_{i} & \\partial y_{o} / \\partial x^{\\prime}_{i} & \\partial y_{o} / \\partial y_{i} & \\partial y_{o} / \\partial y_{\\prime}{i} & \\partial y_{o} / \\partial 1\\\\\\partial y_{\\prime}{o} / \\partial x_{i} & \\partial y_{\\prime}{o} / \\partial x^{\\prime}_{i} & \\partial y_{\\prime}{o} / \\partial y_{i} & \\partial y_{\\prime}{o} / \\partial y_{\\prime}{i} & \\partial y_{\\prime}{o} / \\partial 1\\\\\\partial 1 / \\partial x_{i} & \\partial 1 / \\partial x^{\\prime}_{i} & \\partial 1 / \\partial y_{i} & \\partial 1 / \\partial y_{\\prime}{i} & \\partial 1 / \\partial 1\\end{matrix}\\right]$ = $\\displaystyle \\left[\\begin{matrix}1 - \\frac{z_{2}}{f} & z_{1} \\left(1 - \\frac{z_{2}}{f}\\right) + z_{2} & 0 & 0 & 0\\\\- \\frac{1}{f} & 1 - \\frac{z_{1}}{f} & 0 & 0 & 0\\\\0 & 0 & 1 - \\frac{z_{2}}{f} & z_{1} \\left(1 - \\frac{z_{2}}{f}\\right) + z_{2} & 0\\\\0 & 0 & - \\frac{1}{f} & 1 - \\frac{z_{1}}{f} & 0\\\\0 & 0 & 0 & 0 & 1\\end{matrix}\\right]$"
   ]
  },
  {
   "cell_type": "markdown",
   "metadata": {},
   "source": [
    "Now as you mentioned in the torch notebook, there should be no restriction on matrix use, but more complicated functions should be possible. The nice thing about torch or jax and the jacobian, is that autodiff will give us the jacobian for every ray in the system, and that ray need not have been propagated via a ray transfer matrix, just as long as the operations are linear we will automatically get the Jacobian for that ray. What this means also is that the scan decscan system can have a complicated function to apply descan error, but what that does to each ray in it's tilting or shifting will just appear in the final column of the jacobian matrix as a tilt or shift error. And everything we need to know about how to propagate that ray backwards is found by just inverting that jacobian. "
   ]
  },
  {
   "cell_type": "code",
   "execution_count": 17,
   "metadata": {},
   "outputs": [
    {
     "name": "stdout",
     "output_type": "stream",
     "text": [
      "[[ -4.   -1.5   0.    0.    0. ]\n",
      " [-10.   -4.    0.    0.    0. ]\n",
      " [  0.    0.   -4.   -1.5   0. ]\n",
      " [  0.    0.  -10.   -4.    0. ]\n",
      " [  0.    0.    0.    0.    1. ]]\n"
     ]
    }
   ],
   "source": [
    "components = [Lens(z=0.5, focal_length=0.1),\n",
    "              Detector(z=1, shape=(100, 100), px_size=0.01, centre_yx=(0, 0))]\n",
    "\n",
    "model = Model(components)\n",
    "\n",
    "def compute_jacobian(matrix, amplitude, pathlength, wavelength):\n",
    "    def propagate(ray_input):\n",
    "        ray = model.run_to_end(ray_input)\n",
    "        return ray.matrix\n",
    "    \n",
    "    ray_input = Ray(z=0.0,\n",
    "                    matrix = matrix, \n",
    "                    amplitude = amplitude, \n",
    "                    pathlength = pathlength, \n",
    "                    wavelength = wavelength)\n",
    "\n",
    "    jacobian = jax.jacobian(propagate)(ray_input)\n",
    "    return jacobian\n",
    "\n",
    "input_matrix = jnp.array([[0., 0., 0., 0., 1]])\n",
    "input_amplitude = 1.0\n",
    "input_pathlength = 0.0\n",
    "input_wavelength = 1.0\n",
    "\n",
    "jacobian = compute_jacobian(matrix = input_matrix,\n",
    "                            amplitude = input_amplitude,\n",
    "                            pathlength = input_pathlength,\n",
    "                            wavelength = input_wavelength)\n",
    "\n",
    "jacobian_matrix = jacobian.matrix.squeeze()\n",
    "print(jacobian_matrix)"
   ]
  },
  {
   "cell_type": "code",
   "execution_count": 19,
   "metadata": {},
   "outputs": [],
   "source": [
    "import numpy.testing as npt\n",
    "\n",
    "jacobian_sympy_np = np.array(jacobian_sympy).astype(np.float64)\n",
    "npt.assert_allclose(jacobian_matrix, jacobian_sympy_np, atol=1e-10)\n"
   ]
  },
  {
   "cell_type": "code",
   "execution_count": null,
   "metadata": {},
   "outputs": [
    {
     "name": "stdout",
     "output_type": "stream",
     "text": [
      "Derivative of output x with respect to focal_length: 0.0\n"
     ]
    }
   ],
   "source": [
    "def output_x(focal_length):\n",
    "    components[0] = Lens(z=0.5, focal_length=focal_length)\n",
    "    ray_input = Ray(\n",
    "        z=0.0,\n",
    "        matrix=input_matrix,\n",
    "        amplitude=input_amplitude,\n",
    "        pathlength=input_pathlength,\n",
    "        wavelength=input_wavelength\n",
    "    )\n",
    "    ray = model.run_to_end(ray_input)\n",
    "    x_position = ray.matrix[0, 0]\n",
    "    return x_position\n",
    "\n",
    "grad_fn = jax.grad(output_x)\n",
    "grad_value = grad_fn(0.1)\n",
    "print(\"Derivative of output x with respect to focal_length:\", grad_value)"
   ]
  }
 ],
 "metadata": {
  "kernelspec": {
   "display_name": "temgym",
   "language": "python",
   "name": "python3"
  },
  "language_info": {
   "codemirror_mode": {
    "name": "ipython",
    "version": 3
   },
   "file_extension": ".py",
   "mimetype": "text/x-python",
   "name": "python",
   "nbconvert_exporter": "python",
   "pygments_lexer": "ipython3",
   "version": "3.12.0"
  }
 },
 "nbformat": 4,
 "nbformat_minor": 2
}
